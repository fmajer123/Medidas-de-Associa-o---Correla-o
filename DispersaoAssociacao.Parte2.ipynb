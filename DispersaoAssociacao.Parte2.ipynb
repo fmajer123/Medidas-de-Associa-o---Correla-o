{
 "cells": [
  {
   "cell_type": "markdown",
   "metadata": {
    "toc": true
   },
   "source": [
    "<h1>Estatistica Descritiva para EDA<span class=\"tocSkip\"></span></h1>\n",
    "<div class=\"toc\"><ul class=\"toc-item\"><li><span><a href=\"#Medidas-de-Dispersão\" data-toc-modified-id=\"Medidas-de-Dispersão-1\"><span class=\"toc-item-num\">1&nbsp;&nbsp;</span>Medidas de Dispersão</a></span><ul class=\"toc-item\"><li><span><a href=\"#Desvio-Padrão\" data-toc-modified-id=\"Desvio-Padrão-1.1\"><span class=\"toc-item-num\">1.1&nbsp;&nbsp;</span>Desvio Padrão</a></span></li><li><span><a href=\"#Variância\" data-toc-modified-id=\"Variância-1.2\"><span class=\"toc-item-num\">1.2&nbsp;&nbsp;</span>Variância</a></span></li></ul></li><li><span><a href=\"#Analisando-Dispersão-dos-dados-do-IBGE\" data-toc-modified-id=\"Analisando-Dispersão-dos-dados-do-IBGE-2\"><span class=\"toc-item-num\">2&nbsp;&nbsp;</span>Analisando Dispersão dos dados do IBGE</a></span><ul class=\"toc-item\"><li><span><a href=\"#Medidas-dispersão-para-a-variável-salário\" data-toc-modified-id=\"Medidas-dispersão-para-a-variável-salário-2.1\"><span class=\"toc-item-num\">2.1&nbsp;&nbsp;</span>Medidas dispersão para a variável salário</a></span></li><li><span><a href=\"#Medidas-dispersão-para-a-variável-idade\" data-toc-modified-id=\"Medidas-dispersão-para-a-variável-idade-2.2\"><span class=\"toc-item-num\">2.2&nbsp;&nbsp;</span>Medidas dispersão para a variável idade</a></span></li><li><span><a href=\"#Medidas-dispersão-para-a-variável-anos_estudo\" data-toc-modified-id=\"Medidas-dispersão-para-a-variável-anos_estudo-2.3\"><span class=\"toc-item-num\">2.3&nbsp;&nbsp;</span>Medidas dispersão para a variável anos_estudo</a></span></li><li><span><a href=\"#Exemplo-de-três-curvas-com-a-mesma-média-e-diferentes-dispersões\" data-toc-modified-id=\"Exemplo-de-três-curvas-com-a-mesma-média-e-diferentes-dispersões-2.4\"><span class=\"toc-item-num\">2.4&nbsp;&nbsp;</span>Exemplo de três curvas com a mesma média e diferentes dispersões</a></span></li></ul></li><li><span><a href=\"#Medidas-de-Associação\" data-toc-modified-id=\"Medidas-de-Associação-3\"><span class=\"toc-item-num\">3&nbsp;&nbsp;</span>Medidas de Associação</a></span><ul class=\"toc-item\"><li><span><a href=\"#Correlação\" data-toc-modified-id=\"Correlação-3.1\"><span class=\"toc-item-num\">3.1&nbsp;&nbsp;</span>Correlação</a></span><ul class=\"toc-item\"><li><span><a href=\"#Tipos-de-correlação\" data-toc-modified-id=\"Tipos-de-correlação-3.1.1\"><span class=\"toc-item-num\">3.1.1&nbsp;&nbsp;</span>Tipos de correlação</a></span><ul class=\"toc-item\"><li><span><a href=\"#Correlação-Linear-de-Pearson\" data-toc-modified-id=\"Correlação-Linear-de-Pearson-3.1.1.1\"><span class=\"toc-item-num\">3.1.1.1&nbsp;&nbsp;</span>Correlação Linear de Pearson</a></span></li><li><span><a href=\"#Correlação-de-Spearman\" data-toc-modified-id=\"Correlação-de-Spearman-3.1.1.2\"><span class=\"toc-item-num\">3.1.1.2&nbsp;&nbsp;</span>Correlação de Spearman</a></span></li><li><span><a href=\"#Correlação-de-Kendall\" data-toc-modified-id=\"Correlação-de-Kendall-3.1.1.3\"><span class=\"toc-item-num\">3.1.1.3&nbsp;&nbsp;</span>Correlação de Kendall</a></span></li></ul></li></ul></li><li><span><a href=\"#Covariância\" data-toc-modified-id=\"Covariância-3.2\"><span class=\"toc-item-num\">3.2&nbsp;&nbsp;</span>Covariância</a></span><ul class=\"toc-item\"><li><span><a href=\"#Exemplo-com-números-gerados\" data-toc-modified-id=\"Exemplo-com-números-gerados-3.2.1\"><span class=\"toc-item-num\">3.2.1&nbsp;&nbsp;</span>Exemplo com números gerados</a></span></li></ul></li></ul></li><li><span><a href=\"#Analisando-correlação-nos-dados-do-IBGE\" data-toc-modified-id=\"Analisando-correlação-nos-dados-do-IBGE-4\"><span class=\"toc-item-num\">4&nbsp;&nbsp;</span>Analisando correlação nos dados do IBGE</a></span></li><li><span><a href=\"#Calculando-a-correlação-de-Spearman\" data-toc-modified-id=\"Calculando-a-correlação-de-Spearman-5\"><span class=\"toc-item-num\">5&nbsp;&nbsp;</span>Calculando a correlação de Spearman</a></span></li></ul></div>"
   ]
  },
  {
   "cell_type": "markdown",
   "metadata": {},
   "source": [
    "<br>\n",
    "<img src=\"img/estatistica_descritiva.png\">\n",
    "<br>\n",
    "\n",
    "\n",
    "*fonte: Wikipedia*\n",
    "\n",
    "A estatística descritiva é um ramo da estatística que aplica várias técnicas para descrever e sumarizar um conjunto de dados. Diferencia-se da estatística inferencial, ou estatística indutiva, pelo objectivo: organizar, sumarizar dados ao invés de usar os dados em aprendizado sobre a população. Esse princípio torna a estatística descritiva uma disciplina independente.\n",
    "\n",
    "Algumas medidas que são normalmente usadas para descrever um conjunto de dados são medidas de tendência central e medidas de variabilidade ou dispersão. Medidas de tendência central incluem média,mediana e moda. Medidas de variabilidade incluem desvio padrão,variância, o valor máximo e mínimo, obliquidade e curtose. \n",
    "\n",
    "A estatística descritiva fornece resumos simples sobre a amostra e sobre as observações que foram feitas. Tal resumo pode ser quantitativo ou visual. Esses resumos tanto podem formar a base da descrição inicial dos dados, como parte de uma análise estatística mais extensa, ou eles podem ser suficientes por si mesmos.\n",
    "\n",
    "Por exemplo, a porcentagem de arremessos no basquetebol é uma descrição estatística que resume a performance de um jogador ou time. Esse número é a quantidade de arremessos bem sucedidos dividido pelo o número de arremessos. Por exemplo, um jogador que consegue porcentagem de 33% faz aproximadamente um arremesso bem sucedido em cada três arremessos. A porcentagem descreve ou resume múltiplos eventos discretos. Considere também a média da. Esse número descreve a performance geral de um estudante em um curso.\n",
    "\n",
    "O uso de descrição e resumo estatísticos tem uma história intensiva e, de fato, a simples tabulação de populações e dados económicos foram a primeira forma em que a estatística apareceu. Mais recentemente, uma colecção de técnicas de resumos apareceram com o título de análise exploratória de dados, um exemplo dessas técnicas é o diagrama de caixa.\n",
    "\n",
    "No mundo dos negócios, estatística descritiva fornece um resumo útil de muitos tipos de dados. \n",
    "\n",
    "Já vimos as principais medidas de centralidade:\n",
    "\n",
    "- Média\n",
    "- Mediana\n",
    "- Moda\n",
    "\n",
    "Agora vamos estudar as principais medidas de dispersão:\n",
    "\n",
    "- Desvio Padrão\n",
    "- Variância\n",
    "\n",
    "Em seguida veremos as principais medidas de associação:\n",
    "\n",
    "- Covariãncia\n",
    "- Correlação"
   ]
  },
  {
   "cell_type": "markdown",
   "metadata": {},
   "source": [
    "## Medidas de Dispersão\n",
    "\n",
    "<br>\n",
    "<img src=\"img/medidas_dispersao.png\">\n",
    "<br>\n",
    "\n",
    "*fonte: Wikipedia*\n",
    "\n",
    "Em Estatística, dispersão (também chamada de variabilidade ou espalhamento) mostra o quão esticada ou espremida uma distribuição (teórica ou que define uma amostra) é, e sua representação gráfica de distribuição apresenta estas características. Exemplos comuns de medidas de dispersão estatística são a variância, o desvio padrão e a amplitude interquartil.\n",
    "\n",
    "Dispersão é contrastada com posição ou tendência central, e juntas elas são as propriedades de distribuições mais usadas. "
   ]
  },
  {
   "cell_type": "markdown",
   "metadata": {},
   "source": [
    "### Desvio Padrão\n",
    "\n",
    "<br>\n",
    "<img src=\"img/desvio_padrao.png\">\n",
    "<br>\n",
    "\n",
    "*fonte: Wikipedia*\n",
    "\n",
    "Em probabilidade, o desvio padrão ou desvio padrão populacional (comumente representado pela letra grega σ) é uma medida de dispersão em torno da média populacional de uma variável aleatória. O termo possui também uma acepção específica no campo da estatística, na qual também é chamado de desvio padrão amostral (comumente representado pela letra latina s) e indica uma medida de dispersão dos dados em torno de média amostral. Um baixo desvio padrão indica que os pontos dos dados tendem a estar próximos da média ou do valor esperado. Um alto desvio padrão indica que os pontos dos dados estão espalhados por uma ampla gama de valores. O desvio padrão populacional ou amostral é a raiz quadrada da variância populacional ou amostral correspondente, de modo a ser uma medida de dispersão que seja um número não negativo e que use a mesma unidade de medida dos dados fornecidos.\n",
    "\n",
    "Além de expressar a variabilidade da população, o desvio padrão comumente é usado para medir a confiança em cálculos estatísticos e geralmente permite sintetizar os resultados de uma experiência repetida várias vezes. Por exemplo, a margem de erro de um conjunto de dados é determinada pelo cálculo do desvio padrão da média ou do desvio padrão populacional inverso da raiz quadrada do tamanho da amostra, se a mesma pesquisa for repetida várias vezes.\n",
    "\n",
    "Esta derivação do desvio padrão geralmente é chamada de erro padrão da estimativa ou erro padrão da média (em referência à média). O erro padrão da média é calculado a partir do desvio padrão das médias, as quais poderiam ser computadas a partir de uma população se um número infinito de amostras e uma média para cada amostra fossem considerados. A margem de erro de uma pesquisa é calculada a partir do erro padrão da média (produto do desvio padrão populacional e do inverso da raiz quadrada do tamanho da amostra), e cerca do dobro do erro padrão da média é a metade da largura de 95% do intervalo de confiança para a média (populacional).\n",
    "\n",
    "O desvio padrão é calculado em todas as áreas que usam probabilidade e estatística, em particular biologia, finanças, física e pesquisas em geral. Em ciência, os pesquisadores comumente reportam o desvio padrão dos dados experimentais. Em geral, apenas os efeitos mais de dois desvios padrões distantes do esperado são considerados estatisticamente significativos – por meio de erro aleatório normal ou variação nas medições podem-se distinguir os efeitos prováveis dos efeitos genuínos. Quando apenas uma amostra dos dados da população está disponível, o termo desvio padrão amostral pode referir-se tanto à quantidade mencionada acima quanto a uma quantidade modificada que seja uma estimativa não enviesada do desvio padrão populacional. Quando o desvio padrão populacional não é conhecido, o seu valor é aproximado por meio do desvio padrão amostral.\n",
    "\n",
    "O **Desvio Padrão** é a raiz quadrada da variância, para \"retornar\" a variável para sua escala original.\n",
    "\n",
    "$$ \\sigma = \\sqrt {\\frac{1}{N}\\sum\\limits_{i = 1}^N {\\left( {x_i - \\bar x} \\right)^2 }}  $$\n",
    "\n",
    "Uma vantagem do desvio padrão é que ele é expresso nas mesmas unidades que a distribuição. \n",
    "(Por outro lado, a variância tem outras unidades, já que está elevada ao quadrado.)"
   ]
  },
  {
   "cell_type": "markdown",
   "metadata": {},
   "source": [
    "### Variância\n",
    "\n",
    "<br>\n",
    "<img src=\"img/variancia.png\">\n",
    "<br>\n",
    "\n",
    "*fonte: Wikipedia*\n",
    "\n",
    "Na teoria da probabilidade e na estatística, a variância de uma variável aleatória ou processo estocástico é uma medida da sua dispersão estatística, indicando \"o quão longe\" em geral os seus valores se encontram do valor esperado.\n",
    "\n",
    "A variância de uma variável aleatória real é o seu segundo momento central e também o seu segundo cumulante (os cumulantes só diferem dos momentos centrais a partir do 4º grau, inclusive). Sendo o seu valor o quadrado do Desvio Padrão. \n",
    "\n",
    "A variância (ou segundo momento) tambem é definida como um valor numérico utilizado para descrever quanto variam os números de uma distribuição com relação à média deles. \n",
    "\n",
    "Por definição, a variância é o quadrado do Desvio Padrão:\n",
    "    \n",
    "$$ \\sigma{_x}^{2} = \\frac{1}{N}\\sum\\limits_{i = 1}^N {\\left( {x_i - \\bar x} \\right)^2 }  $$\n",
    "\n",
    "É a média da diferença elevada ao quadrado entre cada valor e a média. Em outras palavras ela mede o quanto os dados estão distantes de x_barra (média), quanto maior esse número, mais distante da média os valores estão, em média (dividido por n).\n",
    "\n"
   ]
  },
  {
   "cell_type": "markdown",
   "metadata": {},
   "source": [
    "# Aplicando os conceitos em um exemplo real\n",
    "\n",
    "Vamos utilizar o mesmos dados já conhecidos para calcular e comparar as métricas aprendidas"
   ]
  },
  {
   "cell_type": "markdown",
   "metadata": {},
   "source": [
    "## Analisando Dispersão dos dados do IBGE\n",
    "\n"
   ]
  },
  {
   "cell_type": "markdown",
   "metadata": {},
   "source": [
    "### Medidas dispersão para a variável salário\n",
    "\n",
    "Evidentemente o desvio pacrão e a variância fazem sentido para as variáveis quatitativas ou qualitativas ordinais numéricas com várias categorias. Para nosso exemplo temos idade, anos de estudo e salário."
   ]
  },
  {
   "cell_type": "code",
   "execution_count": 1,
   "metadata": {},
   "outputs": [
    {
     "name": "stdout",
     "output_type": "stream",
     "text": [
      "Média da coluna salario: 19706.79\n"
     ]
    }
   ],
   "source": [
    "import csv \n",
    "lista_com_salarios = []\n",
    "lista_com_idades = list()\n",
    "\n",
    "with open(r'data/data.csv', 'r') as data_csv:\n",
    "    data = csv.reader(data_csv)\n",
    "    \n",
    "    lista_exemplo = []\n",
    "    somatorio = 0\n",
    "    contador = 0\n",
    "    for i, line in enumerate(data):\n",
    "        if i>0:\n",
    "            try: # para evitar os campos nulos\n",
    "                lista_com_idades.append(float(line[2]))\n",
    "                lista_com_salarios.append(float(line[6]))\n",
    "                \n",
    "                somatorio +=  float(line[6]) # coluna 6 é a coluna de salario\n",
    "                contador += 1\n",
    "            except:\n",
    "                pass\n",
    "\n",
    "\n",
    "media = round(somatorio/contador,2)\n",
    "\n",
    "print(f'Média da coluna salario: {media}')"
   ]
  },
  {
   "cell_type": "code",
   "execution_count": 2,
   "metadata": {},
   "outputs": [],
   "source": [
    "# calcula_variancia_e_desvio(lista_com_salarios)"
   ]
  },
  {
   "cell_type": "code",
   "execution_count": 3,
   "metadata": {},
   "outputs": [
    {
     "data": {
      "text/plain": [
       "['66469',\n",
       " '53117018102.0',\n",
       " '37',\n",
       " 'homem',\n",
       " '5.0',\n",
       " 'Preta',\n",
       " '460.3500061035156',\n",
       " '1.0',\n",
       " 'centro-oeste']"
      ]
     },
     "execution_count": 3,
     "metadata": {},
     "output_type": "execute_result"
    }
   ],
   "source": [
    "line"
   ]
  },
  {
   "cell_type": "markdown",
   "metadata": {},
   "source": [
    "Fazer a formula com base no código acima e na função abaixo:\n",
    "\n",
    "$$ \\sigma{_x}^{2} = \\frac{1}{N}\\sum\\limits_{i = 1}^N {\\left( {x_i - \\bar x} \\right)^2 }  $$\n"
   ]
  },
  {
   "cell_type": "code",
   "execution_count": 4,
   "metadata": {},
   "outputs": [],
   "source": [
    "import math "
   ]
  },
  {
   "cell_type": "code",
   "execution_count": 5,
   "metadata": {},
   "outputs": [
    {
     "data": {
      "text/plain": [
       "3.141592653589793"
      ]
     },
     "execution_count": 5,
     "metadata": {},
     "output_type": "execute_result"
    }
   ],
   "source": [
    "math.pi"
   ]
  },
  {
   "cell_type": "code",
   "execution_count": 6,
   "metadata": {},
   "outputs": [],
   "source": [
    "from math import sqrt"
   ]
  },
  {
   "cell_type": "code",
   "execution_count": 7,
   "metadata": {},
   "outputs": [
    {
     "data": {
      "text/plain": [
       "4.0"
      ]
     },
     "execution_count": 7,
     "metadata": {},
     "output_type": "execute_result"
    }
   ],
   "source": [
    "sqrt(16)"
   ]
  },
  {
   "cell_type": "code",
   "execution_count": 8,
   "metadata": {},
   "outputs": [],
   "source": [
    "import math"
   ]
  },
  {
   "cell_type": "code",
   "execution_count": 9,
   "metadata": {},
   "outputs": [
    {
     "data": {
      "text/plain": [
       "4.0"
      ]
     },
     "execution_count": 9,
     "metadata": {},
     "output_type": "execute_result"
    }
   ],
   "source": [
    "math.sqrt(16)"
   ]
  },
  {
   "cell_type": "code",
   "execution_count": 10,
   "metadata": {},
   "outputs": [
    {
     "ename": "NameError",
     "evalue": "name 'soma' is not defined",
     "output_type": "error",
     "traceback": [
      "\u001b[1;31m---------------------------------------------------------------------------\u001b[0m",
      "\u001b[1;31mNameError\u001b[0m                                 Traceback (most recent call last)",
      "\u001b[1;32m<ipython-input-10-55d299cc36b3>\u001b[0m in \u001b[0;36m<module>\u001b[1;34m\u001b[0m\n\u001b[1;32m----> 1\u001b[1;33m \u001b[0msoma\u001b[0m \u001b[1;33m+=\u001b[0m \u001b[0mi\u001b[0m\u001b[1;33m\u001b[0m\u001b[1;33m\u001b[0m\u001b[0m\n\u001b[0m\u001b[0;32m      2\u001b[0m \u001b[0msoma\u001b[0m \u001b[1;33m=\u001b[0m \u001b[0msoma\u001b[0m \u001b[1;33m+\u001b[0m \u001b[0mi\u001b[0m\u001b[1;33m\u001b[0m\u001b[1;33m\u001b[0m\u001b[0m\n",
      "\u001b[1;31mNameError\u001b[0m: name 'soma' is not defined"
     ]
    }
   ],
   "source": [
    "soma += i\n",
    "soma = soma + i"
   ]
  },
  {
   "cell_type": "code",
   "execution_count": null,
   "metadata": {},
   "outputs": [],
   "source": [
    "2**10"
   ]
  },
  {
   "cell_type": "code",
   "execution_count": null,
   "metadata": {},
   "outputs": [],
   "source": [
    "def calcula_variancia_e_desvio(lista_valores):\n",
    "    '''\n",
    "    Escrever o código para calcular a variância\n",
    "    '''\n",
    "    \n",
    "    media = 0\n",
    "    soma = 0\n",
    "    \n",
    "    \n",
    "    for i in lista_valores:\n",
    "        \n",
    "        soma += i\n",
    "        \n",
    "    media = soma/len(lista_valores)\n",
    "    \n",
    "    print('media=', media)\n",
    "    SQT = 0\n",
    "    \n",
    "    for n in lista_valores:\n",
    "        SQT += (n-media)**2\n",
    "    \n",
    "    print('SQT=', SQT)\n",
    "    \n",
    "    variancia = SQT/len(lista_valores)\n",
    "    desvio_padrao = math.sqrt(variancia)\n",
    "    \n",
    "    return variancia, desvio_padrao"
   ]
  },
  {
   "cell_type": "code",
   "execution_count": null,
   "metadata": {},
   "outputs": [],
   "source": [
    "%%time\n",
    "\n",
    "import csv \n",
    "lista_com_salarios = []\n",
    "lista_com_idades = list()\n",
    "\n",
    "with open(r'data/data.csv', 'r') as data_csv:\n",
    "    data = csv.reader(data_csv)\n",
    "\n",
    "    for i, line in enumerate(data):\n",
    "        if i>0:\n",
    "            try:\n",
    "                lista_com_idades.append(float(line[2]))\n",
    "            except:\n",
    "                pass\n",
    "            \n",
    "            try:\n",
    "                lista_com_salarios.append(float(line[6]))\n",
    "            except:\n",
    "                pass\n"
   ]
  },
  {
   "cell_type": "code",
   "execution_count": null,
   "metadata": {},
   "outputs": [],
   "source": [
    "len(lista_com_idades)"
   ]
  },
  {
   "cell_type": "code",
   "execution_count": null,
   "metadata": {},
   "outputs": [],
   "source": [
    "lista_com_idades[:5]"
   ]
  },
  {
   "cell_type": "code",
   "execution_count": null,
   "metadata": {},
   "outputs": [],
   "source": [
    "lista_com_salarios[:5]"
   ]
  },
  {
   "cell_type": "code",
   "execution_count": null,
   "metadata": {},
   "outputs": [],
   "source": [
    "len(lista_com_salarios)"
   ]
  },
  {
   "cell_type": "code",
   "execution_count": null,
   "metadata": {},
   "outputs": [],
   "source": [
    "variavel_output = calcula_variancia_e_desvio(lista_com_idades)"
   ]
  },
  {
   "cell_type": "code",
   "execution_count": null,
   "metadata": {},
   "outputs": [],
   "source": [
    "variavel_output[0]"
   ]
  },
  {
   "cell_type": "code",
   "execution_count": null,
   "metadata": {},
   "outputs": [],
   "source": [
    "variavel_output[1]"
   ]
  },
  {
   "cell_type": "code",
   "execution_count": null,
   "metadata": {},
   "outputs": [],
   "source": [
    "calcula_variancia_e_desvio(lista_com_salarios)"
   ]
  },
  {
   "cell_type": "code",
   "execution_count": null,
   "metadata": {},
   "outputs": [],
   "source": []
  },
  {
   "cell_type": "code",
   "execution_count": null,
   "metadata": {},
   "outputs": [],
   "source": []
  },
  {
   "cell_type": "code",
   "execution_count": null,
   "metadata": {},
   "outputs": [],
   "source": []
  },
  {
   "cell_type": "markdown",
   "metadata": {},
   "source": [
    "Plotando o histograma com matplotlib"
   ]
  },
  {
   "cell_type": "code",
   "execution_count": 11,
   "metadata": {},
   "outputs": [],
   "source": [
    "import math as m"
   ]
  },
  {
   "cell_type": "code",
   "execution_count": 12,
   "metadata": {},
   "outputs": [
    {
     "data": {
      "text/plain": [
       "0.8775825618903728"
      ]
     },
     "execution_count": 12,
     "metadata": {},
     "output_type": "execute_result"
    }
   ],
   "source": [
    "m.cos(.5)"
   ]
  },
  {
   "cell_type": "code",
   "execution_count": null,
   "metadata": {},
   "outputs": [],
   "source": []
  },
  {
   "cell_type": "code",
   "execution_count": null,
   "metadata": {},
   "outputs": [],
   "source": []
  },
  {
   "cell_type": "code",
   "execution_count": null,
   "metadata": {},
   "outputs": [],
   "source": []
  },
  {
   "cell_type": "code",
   "execution_count": 3,
   "metadata": {},
   "outputs": [],
   "source": [
    "import matplotlib.pyplot as plt\n"
   ]
  },
  {
   "cell_type": "code",
   "execution_count": 14,
   "metadata": {},
   "outputs": [
    {
     "data": {
      "image/png": "[encoded data removed]",
      "text/plain": [
       "<Figure size 432x288 with 1 Axes>"
      ]
     },
     "metadata": {
      "needs_background": "light"
     },
     "output_type": "display_data"
    }
   ],
   "source": [
    "plt.hist(lista_com_salarios)\n",
    "plt.show()"
   ]
  },
  {
   "cell_type": "markdown",
   "metadata": {},
   "source": [
    "Escolhendo a quantidade de bins (o que é bins?)"
   ]
  },
  {
   "cell_type": "code",
   "execution_count": 15,
   "metadata": {},
   "outputs": [
    {
     "data": {
      "image/png": "[encoded data removed]",
      "text/plain": [
       "<Figure size 432x288 with 1 Axes>"
      ]
     },
     "metadata": {
      "needs_background": "light"
     },
     "output_type": "display_data"
    }
   ],
   "source": [
    "plt.hist(lista_com_salarios, bins=50)\n",
    "plt.show()"
   ]
  },
  {
   "cell_type": "markdown",
   "metadata": {},
   "source": [
    "Escolhendo o range de valores"
   ]
  },
  {
   "cell_type": "code",
   "execution_count": 16,
   "metadata": {},
   "outputs": [
    {
     "data": {
      "image/png": "[encoded data removed]",
      "text/plain": [
       "<Figure size 432x288 with 1 Axes>"
      ]
     },
     "metadata": {
      "needs_background": "light"
     },
     "output_type": "display_data"
    }
   ],
   "source": [
    "plt.hist(lista_com_salarios, bins=100, range=(-100, 75000))\n",
    "plt.show()"
   ]
  },
  {
   "cell_type": "code",
   "execution_count": 17,
   "metadata": {},
   "outputs": [
    {
     "data": {
      "image/png": "[encoded data removed]",
      "text/plain": [
       "<Figure size 432x288 with 1 Axes>"
      ]
     },
     "metadata": {
      "needs_background": "light"
     },
     "output_type": "display_data"
    }
   ],
   "source": [
    "plt.hist(lista_com_idades)\n",
    "plt.show()"
   ]
  },
  {
   "cell_type": "code",
   "execution_count": null,
   "metadata": {},
   "outputs": [],
   "source": []
  },
  {
   "cell_type": "markdown",
   "metadata": {},
   "source": [
    "### Medidas dispersão para a variável idade"
   ]
  },
  {
   "cell_type": "code",
   "execution_count": 18,
   "metadata": {},
   "outputs": [
    {
     "ename": "NameError",
     "evalue": "name 'calcula_variancia_e_desvio' is not defined",
     "output_type": "error",
     "traceback": [
      "\u001b[1;31m---------------------------------------------------------------------------\u001b[0m",
      "\u001b[1;31mNameError\u001b[0m                                 Traceback (most recent call last)",
      "\u001b[1;32m<ipython-input-18-da49d428a6a2>\u001b[0m in \u001b[0;36m<module>\u001b[1;34m\u001b[0m\n\u001b[1;32m----> 1\u001b[1;33m \u001b[0mcalcula_variancia_e_desvio\u001b[0m\u001b[1;33m(\u001b[0m\u001b[0mlista_com_idades\u001b[0m\u001b[1;33m)\u001b[0m\u001b[1;33m\u001b[0m\u001b[1;33m\u001b[0m\u001b[0m\n\u001b[0m",
      "\u001b[1;31mNameError\u001b[0m: name 'calcula_variancia_e_desvio' is not defined"
     ]
    }
   ],
   "source": [
    "calcula_variancia_e_desvio(lista_com_idades)"
   ]
  },
  {
   "cell_type": "code",
   "execution_count": null,
   "metadata": {},
   "outputs": [],
   "source": []
  },
  {
   "cell_type": "code",
   "execution_count": null,
   "metadata": {},
   "outputs": [],
   "source": []
  },
  {
   "cell_type": "markdown",
   "metadata": {},
   "source": [
    "### Medidas dispersão para a variável anos_estudo"
   ]
  },
  {
   "cell_type": "code",
   "execution_count": null,
   "metadata": {},
   "outputs": [],
   "source": []
  },
  {
   "cell_type": "code",
   "execution_count": null,
   "metadata": {},
   "outputs": [],
   "source": []
  },
  {
   "cell_type": "code",
   "execution_count": null,
   "metadata": {},
   "outputs": [],
   "source": []
  },
  {
   "cell_type": "markdown",
   "metadata": {},
   "source": [
    "### Exemplo de três curvas com a mesma média e diferentes dispersões"
   ]
  },
  {
   "cell_type": "code",
   "execution_count": 4,
   "metadata": {},
   "outputs": [
    {
     "name": "stdout",
     "output_type": "stream",
     "text": [
      "0\n",
      "1\n",
      "2\n",
      "3\n",
      "4\n",
      "5\n",
      "6\n",
      "7\n",
      "8\n",
      "9\n"
     ]
    }
   ],
   "source": [
    "for numero in range(10):\n",
    "    print(numero)"
   ]
  },
  {
   "cell_type": "code",
   "execution_count": 3,
   "metadata": {},
   "outputs": [
    {
     "name": "stdout",
     "output_type": "stream",
     "text": [
      "0.0\n",
      "0.0002\n",
      "0.0004\n",
      "0.0006\n",
      "0.0008\n"
     ]
    }
   ],
   "source": [
    "for valor in range(0,10, 2):\n",
    "    print(valor/10000)"
   ]
  },
  {
   "cell_type": "code",
   "execution_count": 5,
   "metadata": {},
   "outputs": [],
   "source": [
    "lista_valores = []\n",
    "\n",
    "for valor in range(0, 1000, 1):\n",
    "    lista_valores.append((valor/125)-4)"
   ]
  },
  {
   "cell_type": "code",
   "execution_count": 6,
   "metadata": {},
   "outputs": [],
   "source": [
    "variavel1, variavel2, variavel3 = 0, 2, 3"
   ]
  },
  {
   "cell_type": "code",
   "execution_count": null,
   "metadata": {},
   "outputs": [],
   "source": [
    "variavel3"
   ]
  },
  {
   "cell_type": "code",
   "execution_count": null,
   "metadata": {},
   "outputs": [],
   "source": []
  },
  {
   "cell_type": "code",
   "execution_count": null,
   "metadata": {},
   "outputs": [],
   "source": []
  },
  {
   "cell_type": "code",
   "execution_count": 7,
   "metadata": {},
   "outputs": [
    {
     "data": {
      "image/png": "[encoded data removed]",
      "text/plain": [
       "<Figure size 432x288 with 1 Axes>"
      ]
     },
     "metadata": {
      "needs_background": "light"
     },
     "output_type": "display_data"
    }
   ],
   "source": [
    "from scipy.stats import norm\n",
    "import matplotlib.pyplot as plt\n",
    "\n",
    "mean, std, std1, std2 = 0, 0.5, 1, 2\n",
    "\n",
    "plt.plot(lista_valores, norm.pdf(lista_valores,mean,std), label='std=0.5')\n",
    "plt.plot(lista_valores, norm.pdf(lista_valores,mean,std1), label='std=1')\n",
    "plt.plot(lista_valores, norm.pdf(lista_valores,mean,std2), label='std=2')\n",
    "\n",
    "plt.legend(loc='upper left')\n",
    "\n",
    "plt.show()"
   ]
  },
  {
   "cell_type": "code",
   "execution_count": null,
   "metadata": {},
   "outputs": [],
   "source": []
  },
  {
   "cell_type": "code",
   "execution_count": null,
   "metadata": {},
   "outputs": [],
   "source": []
  },
  {
   "cell_type": "markdown",
   "metadata": {},
   "source": [
    "## Medidas de Associação"
   ]
  },
  {
   "cell_type": "markdown",
   "metadata": {},
   "source": [
    "### Correlação\n",
    "\n",
    "<br>\n",
    "<img src=\"img/correlacao2.png\">\n",
    "<br>\n",
    "\n",
    "*fonte: Wikipedia*\n",
    "\n",
    "Em probabilidade e estatística, correlação, dependência ou associação é qualquer relação estatística (causal ou não causal) entre duas variáveis e correlação é qualquer relação dentro de uma ampla classe de relações estatísticas que envolva dependência entre duas variáveis. Por exemplo, a correlação entre a estatura dos pais e a estatura dos pais e dos filhos. Embora seja comumente denotada como a medida de relação entre duas variáveis aleatórias, correlação não implica causalidade. Em alguns casos, correlação não identifica dependência entre as variáveis. Em geral, há pares de variáveis que apresentam forte dependência estatística, mas que possuem correlação nula. Para este casos, são utilizadas outras medidas de dependência.\n",
    "\n",
    "Informalmente correlação é sinônimo de dependência. Formalmente variáveis são dependentes se não satisfizerem a propriedade matemática da independência probabilística. Em termos técnicos, correlação refere–se a qualquer um dos vários tipos específicos de relação entre os valores médios. Existem diferentes coeficientes de correlação (ρ ou r) para medir o grau de correlação. Um dos coeficientes de correlação mais conhecidos é o coeficiente de correlação de Pearson, obtido pela divisão da covariância de duas variáveis pelo produto dos seus desvios padrão e sensível a uma relação linear entre duas variáveis. Entretanto, há outros coeficientes de correlação mais robustos que o coeficiente de correlação de Pearson. Isto é, mais sensíveis às relações não lineares.\n",
    "\n",
    "#### Tipos de correlação\n",
    "\n",
    "Linear:\n",
    "- Pearson\n",
    "\n",
    "Não-lineares:\n",
    "- Spearman\n",
    "- Kendall (tau)\n",
    "\n",
    "<br>\n",
    "<img src=\"img/correlacoes_comp.png\">\n",
    "<br>\n",
    "\n",
    "##### Correlação Linear de Pearson\n",
    "\n",
    "A correlação amostral trata da medida da direção e do grau com que as variáveis X {\\displaystyle X} {\\displaystyle X} e Y {\\displaystyle Y} {\\displaystyle Y} se associam linearmente em uma amostra. Karl Pearson desenvolveu o coeficiente amostral a partir de uma ideia semelhante, porém ligeiramente diferente da de Francis Galton. Então, o coeficiente amostral pode ser chamado de coeficiente produto–momento de Pearson, coeficiente de correlação de Pearson ou simplesmente coeficiente de correlação, que é a medida mais conhecida de dependência entre duas variáveis quantitativa.\n",
    "\n",
    "A correlação lineaar de Pearson é uma versão padronizada (dividida pelos desvios padrão) da covariância e sempre está entre 1 e -1, portanto pode ser comparada com variaveis que não tem necessáriamente a mesma escala.\n",
    "\n",
    "$$ \\rho = \\frac{{}\\sum_{i=1}^{n} (x_i - \\overline{x})(y_i - \\overline{y})}\n",
    "{\\sqrt{\\sum_{i=1}^{n} (x_i - \\overline{x})^2(y_i - \\overline{y})^2}}$$\n",
    "\n",
    "##### Correlação de Spearman\n",
    "\n",
    "A correlação de postos de Spearman é utilizada para a relação entre dados não–lineares. Quando os dados de uma amostra são ordenados de forma crescente, obtém–se uma condição de ordem para que cada elemento ordenado seja um posto.\n",
    "\n",
    "##### Correlação de Kendall\n",
    "\n",
    "A correlação de postos de Kendall, também conhecido como τ de Kendall, é uma medida a partir de uma amostra de dados ordenados como a correlação de postos de Spearman. A vantagem de τ de Kendall é a generalização para um coeficiente de correlação parcial. "
   ]
  },
  {
   "cell_type": "markdown",
   "metadata": {},
   "source": [
    "### Covariância\n",
    "\n",
    "<br>\n",
    "<img src=\"img/covariancia.png\">\n",
    "<br>\n",
    "\n",
    "*fonte: Wikipedia*\n",
    "\n",
    "Em teoria da probabilidade e na estatística, a covariância, ou variância conjunta, é uma medida do grau de interdependência (ou inter-relação) numérica entre duas variáveis aleatórias. Assim, variáveis independentes têm covariância zero.\n",
    "\n",
    "A covariância ou variância conjunta é um momento conjunto de primeira ordem das variáveis aleatórias X e Y, centrados nas respectivas médias. É a média do grau de interdependência ou inter-relação numérica linear entre elas. \n",
    "\n",
    "A covariância é por vezes chamada de medida de dependência linear entre as duas variáveis aleatórias. \n",
    "\n",
    "Dessa forma, a covariância é definida como uma variância entre duas variáveis distintas.\n",
    "\n",
    "$$ cov_{x,y} = \\sum_{i=1}^{n} (x_i - \\bar{x})(y_i - \\bar{y})\\quad \\text{(covariance)} $$\n",
    "\n",
    "$$\\sigma{_x}^{2} = \\sum_{i=1}^{n} (x_i - \\bar{x})^2\\quad \\text{(variance)}\t$$\n",
    "\n",
    "Vale a pena reforçar o que já foi mencionado acima, que a correlação é uma versão padronizada (dividida pelos desvios padrão) da covariância e sempre está entre 1 e -1, portanto pode ser comparada com variaveis que não tem necessáriamente a mesma escala."
   ]
  },
  {
   "cell_type": "markdown",
   "metadata": {},
   "source": [
    "#### Exemplo com números gerados\n",
    "\n",
    "Vamos criar duas variáveis aleatórias para utilização nesta parte de cálculo das medidas de associação através no numpy.random, e a partir do gráfico de dispersão (scatter plot) iremos trazer os códigos das funções de cálculo seguidas nos comandos da bilbioteca Scipy.Stats. "
   ]
  },
  {
   "cell_type": "code",
   "execution_count": 4,
   "metadata": {},
   "outputs": [
    {
     "data": {
      "text/plain": [
       "<matplotlib.collections.PathCollection at 0x2cc0391be10>"
      ]
     },
     "execution_count": 4,
     "metadata": {},
     "output_type": "execute_result"
    },
    {
     "data": {
      "image/png": "[encoded data removed]",
      "text/plain": [
       "<Figure size 432x288 with 1 Axes>"
      ]
     },
     "metadata": {
      "needs_background": "light"
     },
     "output_type": "display_data"
    }
   ],
   "source": [
    "x1 = [1.3, 2.1, 3.4, 3.7, 5.4, 6.3, 7.2, 8.1, 9.9]\n",
    "x2 = [8.7, 8.5, 7.6, 6.1, 5.1, 5.7, 3.3, 3.8, 1.7]\n",
    "\n",
    "plt.scatter(x=x1,\n",
    "            y=x2)"
   ]
  },
  {
   "cell_type": "code",
   "execution_count": 43,
   "metadata": {},
   "outputs": [
    {
     "data": {
      "text/plain": [
       "[(1.3, 8.7),\n",
       " (2.1, 8.5),\n",
       " (3.4, 7.6),\n",
       " (3.7, 6.1),\n",
       " (5.4, 5.1),\n",
       " (6.3, 5.7),\n",
       " (7.2, 3.3),\n",
       " (8.1, 3.8),\n",
       " (9.9, 1.7)]"
      ]
     },
     "execution_count": 43,
     "metadata": {},
     "output_type": "execute_result"
    }
   ],
   "source": [
    "list(zip(list(x1),list(x2)))"
   ]
  },
  {
   "cell_type": "code",
   "execution_count": 20,
   "metadata": {},
   "outputs": [
    {
     "name": "stdout",
     "output_type": "stream",
     "text": [
      "[(1.3, 8.7), (2.1, 8.5), (3.4, 7.6), (3.7, 6.1), (5.4, 5.1)]\n"
     ]
    }
   ],
   "source": [
    "xy = list(zip(list(x1),list(x2)))\n",
    "print(xy[:5])"
   ]
  },
  {
   "cell_type": "code",
   "execution_count": 38,
   "metadata": {},
   "outputs": [
    {
     "name": "stdout",
     "output_type": "stream",
     "text": [
      "-0.9693785258717729\n"
     ]
    }
   ],
   "source": [
    "import scipy\n",
    "metodo_nutella = scipy.stats.pearsonr(x1, x2)\n",
    "print(metodo_nutella[0])"
   ]
  },
  {
   "cell_type": "markdown",
   "metadata": {},
   "source": [
    "$$ \\rho = \\frac{{}\\sum_{i=1}^{n} (x_i - \\overline{x})(y_i - \\overline{y})}\n",
    "{\\sqrt{\\sum_{i=1}^{n} (x_i - \\overline{x})^2(y_i - \\overline{y})^2}}$$"
   ]
  },
  {
   "cell_type": "markdown",
   "metadata": {},
   "source": [
    "ou outras formas de representação:\n",
    "\n",
    "<img src ='https://wikimedia.org/api/rest_v1/media/math/render/svg/9a883e9f9f3f8abd5a139141e1c60212d53a8f09' />"
   ]
  },
  {
   "cell_type": "code",
   "execution_count": 53,
   "metadata": {},
   "outputs": [],
   "source": [
    "for i in [1,2,3,4]:\n",
    "    i**2"
   ]
  },
  {
   "cell_type": "code",
   "execution_count": 52,
   "metadata": {},
   "outputs": [
    {
     "data": {
      "text/plain": [
       "30"
      ]
     },
     "execution_count": 52,
     "metadata": {},
     "output_type": "execute_result"
    }
   ],
   "source": [
    "# sum([i**2 for i in [1,2,3,4]])"
   ]
  },
  {
   "cell_type": "code",
   "execution_count": 62,
   "metadata": {},
   "outputs": [
    {
     "data": {
      "text/plain": [
       "47.4"
      ]
     },
     "execution_count": 62,
     "metadata": {},
     "output_type": "execute_result"
    }
   ],
   "source": [
    "sum([i[0] for i in xy])"
   ]
  },
  {
   "cell_type": "code",
   "execution_count": 54,
   "metadata": {},
   "outputs": [],
   "source": [
    "def corr_metodo_raiz(data):\n",
    "    n = len(data)\n",
    "    sumx = sum([i[0] for i in data])\n",
    "    sumy = sum([i[1] for i in data])\n",
    "    \n",
    "    sumxSq=sum([i[0]**2.0 for i in data])\n",
    "    sumySq=sum([i[1]**2.0 for i in data])\n",
    "    \n",
    "    pSum=sum([i[0]*i[1] for i in data])\n",
    "    \n",
    "    numerador=pSum-(sumx*sumy/n)\n",
    "    denominador=((sumxSq-pow(sumx,2)/n)*(sumySq-pow(sumy,2)/n))**.5\n",
    "    \n",
    "    if denominador==0:\n",
    "        r=0\n",
    "    else:\n",
    "        r=numerador/denominador\n",
    "        \n",
    "    return r"
   ]
  },
  {
   "cell_type": "code",
   "execution_count": 55,
   "metadata": {},
   "outputs": [
    {
     "data": {
      "text/plain": [
       "-0.9693785258717726"
      ]
     },
     "execution_count": 55,
     "metadata": {},
     "output_type": "execute_result"
    }
   ],
   "source": [
    "corr_metodo_raiz(xy)"
   ]
  },
  {
   "cell_type": "markdown",
   "metadata": {},
   "source": [
    "## Analisando correlação nos dados do IBGE\n"
   ]
  },
  {
   "cell_type": "code",
   "execution_count": 24,
   "metadata": {},
   "outputs": [
    {
     "name": "stdout",
     "output_type": "stream",
     "text": [
      "66470 47878\n",
      "\n",
      "\n",
      "[53.0, 49.0, 22.0, 55.0, 56.0]\n",
      "[63600.0, 4352.400390625, 96600.0, 157800.0, 88550.0]\n"
     ]
    }
   ],
   "source": [
    "import numpy\n",
    "\n",
    "print(len(lista_com_idades), len(lista_com_salarios))\n",
    "print('\\n')\n",
    "print(lista_com_idades[:5])\n",
    "print(lista_com_salarios[:5])"
   ]
  },
  {
   "cell_type": "code",
   "execution_count": 56,
   "metadata": {},
   "outputs": [],
   "source": [
    "lista_nao_nula = []"
   ]
  },
  {
   "cell_type": "code",
   "execution_count": null,
   "metadata": {},
   "outputs": [],
   "source": []
  },
  {
   "cell_type": "code",
   "execution_count": 57,
   "metadata": {},
   "outputs": [
    {
     "data": {
      "text/plain": [
       "66036"
      ]
     },
     "execution_count": 57,
     "metadata": {},
     "output_type": "execute_result"
    }
   ],
   "source": [
    "idade_estudo = []\n",
    "\n",
    "with open(r'data/data.csv', 'r') as data_csv:\n",
    "    data = csv.reader(data_csv)\n",
    "    for i, line in enumerate(data):\n",
    "        observação = [] # cria uma lista em branco a cada iteração\n",
    "        if i>0:\n",
    "            try: # para evitar os campos nulos\n",
    "                observação.append(float(line[2]))\n",
    "                observação.append(float(line[4]))\n",
    "                idade_estudo.append(observação)\n",
    "            except:\n",
    "                pass\n",
    "\n",
    "len(idade_estudo)"
   ]
  },
  {
   "cell_type": "code",
   "execution_count": 58,
   "metadata": {},
   "outputs": [
    {
     "data": {
      "text/plain": [
       "[[53.0, 5.0],\n",
       " [49.0, 8.0],\n",
       " [22.0, 11.0],\n",
       " [55.0, 15.0],\n",
       " [56.0, 15.0],\n",
       " [30.0, 15.0],\n",
       " [52.0, 5.0],\n",
       " [29.0, 5.0],\n",
       " [29.0, 11.0],\n",
       " [46.0, 15.0]]"
      ]
     },
     "execution_count": 58,
     "metadata": {},
     "output_type": "execute_result"
    }
   ],
   "source": [
    "idade_estudo[:10]"
   ]
  },
  {
   "cell_type": "code",
   "execution_count": 30,
   "metadata": {},
   "outputs": [
    {
     "data": {
      "text/plain": [
       "-0.22316633803425154"
      ]
     },
     "execution_count": 30,
     "metadata": {},
     "output_type": "execute_result"
    }
   ],
   "source": [
    "corr_metodo_raiz(idade_estudo)"
   ]
  },
  {
   "cell_type": "code",
   "execution_count": 31,
   "metadata": {},
   "outputs": [],
   "source": [
    "lista_com_idades = []\n",
    "lista_com_estudo = []\n",
    "\n",
    "for row in idade_estudo:\n",
    "    lista_com_idades.append(row[0])\n",
    "    lista_com_estudo.append(row[1])    "
   ]
  },
  {
   "cell_type": "code",
   "execution_count": 40,
   "metadata": {},
   "outputs": [
    {
     "data": {
      "text/plain": [
       "<matplotlib.collections.PathCollection at 0x278a72ea208>"
      ]
     },
     "execution_count": 40,
     "metadata": {},
     "output_type": "execute_result"
    },
    {
     "data": {
      "image/png": "[encoded data removed]",
      "text/plain": [
       "<Figure size 432x288 with 1 Axes>"
      ]
     },
     "metadata": {
      "needs_background": "light"
     },
     "output_type": "display_data"
    }
   ],
   "source": [
    "plt.scatter(x=lista_com_idades[:1000], y=lista_com_estudo[:1000])"
   ]
  },
  {
   "cell_type": "markdown",
   "metadata": {},
   "source": [
    "# Calculando a correlação de todas as variáveis"
   ]
  },
  {
   "cell_type": "code",
   "execution_count": null,
   "metadata": {},
   "outputs": [],
   "source": []
  },
  {
   "cell_type": "code",
   "execution_count": null,
   "metadata": {},
   "outputs": [],
   "source": []
  },
  {
   "cell_type": "code",
   "execution_count": null,
   "metadata": {},
   "outputs": [],
   "source": []
  },
  {
   "cell_type": "markdown",
   "metadata": {},
   "source": [
    "## Calculando a correlação de Spearman"
   ]
  },
  {
   "cell_type": "code",
   "execution_count": 35,
   "metadata": {},
   "outputs": [
    {
     "name": "stdout",
     "output_type": "stream",
     "text": [
      "-0.2420298536078769\n"
     ]
    }
   ],
   "source": [
    "from scipy.stats import spearmanr\n",
    "\n",
    "corr, _ = spearmanr(lista_com_idades, lista_com_estudo)\n",
    "print(corr)"
   ]
  },
  {
   "cell_type": "code",
   "execution_count": 36,
   "metadata": {},
   "outputs": [],
   "source": [
    "from math import sqrt\n",
    "\n",
    "def spearmanRaiz(X, Y):\n",
    "    n = len(X)\n",
    "    sigma_x = sigma_y = sigma_xy = 0.0\n",
    "    sigma_xsq = sigma_ysq = 0.0\n",
    "    for i in range(0, n-1):\n",
    "        sigma_x = sigma_x + X[i]\n",
    "        sigma_y = sigma_y + Y[i]\n",
    "        sigma_xy = sigma_xy + X[i] * Y[i]\n",
    "        sigma_xsq = sigma_xsq + X[i] * X[i]\n",
    "        sigma_ysq = sigma_ysq + Y[i] * Y[i]       \n",
    "    \n",
    "    num =( n * sigma_xy - sigma_x * sigma_y)\n",
    "    den = sqrt( [float(n)*sigma_xsq - (sigma_x)^ 2]*[ n*sigma_ysq - (sigma_y) ^ 2] )\n",
    "    return num/den"
   ]
  },
  {
   "cell_type": "code",
   "execution_count": null,
   "metadata": {},
   "outputs": [],
   "source": []
  }
 ],
 "metadata": {
  "hide_input": false,
  "kernelspec": {
   "display_name": "Python 3",
   "language": "python",
   "name": "python3"
  },
  "language_info": {
   "codemirror_mode": {
    "name": "ipython",
    "version": 3
   },
   "file_extension": ".py",
   "mimetype": "text/x-python",
   "name": "python",
   "nbconvert_exporter": "python",
   "pygments_lexer": "ipython3",
   "version": "3.7.1"
  },
  "toc": {
   "base_numbering": 1,
   "nav_menu": {},
   "number_sections": true,
   "sideBar": true,
   "skip_h1_title": true,
   "title_cell": "Estatistica Descritiva para EDA",
   "title_sidebar": "Contents",
   "toc_cell": true,
   "toc_position": {
    "height": "914.933px",
    "left": "41px",
    "top": "110.263px",
    "width": "248.117px"
   },
   "toc_section_display": true,
   "toc_window_display": false
  }
 },
 "nbformat": 4,
 "nbformat_minor": 2
}
