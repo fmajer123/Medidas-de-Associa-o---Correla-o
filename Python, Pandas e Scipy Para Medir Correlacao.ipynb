{
 "cells": [
  {
   "cell_type": "markdown",
   "metadata": {},
   "source": [
    "# Python, Pandas e Scipy Para Medir Correlacao\n",
    "\n",
    "\n"
   ]
  },
  {
   "cell_type": "markdown",
   "metadata": {},
   "source": [
    "Ola pessoal,\n",
    "\n",
    "Hoje trago pra voces algumas linhas de codigo basicas no Python para encontrarmos a correlacao entre variaveis. Inicialmente iremos criar alguns dados independentes, e na sequencia iremos praticar com um Dataset do IBGE da decada de 90. Para esse projeto iremos utilizar os pacotes do Python matplotlib.pyplot e scipy.stats.\n",
    "\n",
    "\n",
    "\n"
   ]
  },
  {
   "cell_type": "code",
   "execution_count": 44,
   "metadata": {},
   "outputs": [],
   "source": [
    "import pandas as pd\n",
    "import matplotlib.pyplot as plt\n",
    "from scipy.stats import spearmanr\n",
    "import csv\n",
    "\n",
    "\n"
   ]
  },
  {
   "cell_type": "markdown",
   "metadata": {},
   "source": [
    "Antes de comercarmos, vamos dar uma refrescada nos conceitos estatiscos de correlação, dependência e associação."
   ]
  },
  {
   "cell_type": "markdown",
   "metadata": {},
   "source": [
    "*fonte: Wikipedia*\n",
    "\n",
    "Em probabilidade e estatística, correlação, dependência ou associação é qualquer relação estatística (causal ou não causal) entre duas variáveis e correlação é qualquer relação dentro de uma ampla classe de relações estatísticas que envolva dependência entre duas variáveis. Por exemplo, a correlação entre a estatura dos pais e a estatura dos pais e dos filhos. Embora seja comumente denotada como a medida de relação entre duas variáveis aleatórias, correlação não implica causalidade. Em alguns casos, correlação não identifica dependência entre as variáveis. Em geral, há pares de variáveis que apresentam forte dependência estatística, mas que possuem correlação nula. Para este casos, são utilizadas outras medidas de dependência.\n",
    "\n",
    "Informalmente correlação é sinônimo de dependência. Formalmente variáveis são dependentes se não satisfizerem a propriedade matemática da independência probabilística. Em termos técnicos, correlação refere–se a qualquer um dos vários tipos específicos de relação entre os valores médios. Existem diferentes coeficientes de correlação (ρ ou r) para medir o grau de correlação. Um dos coeficientes de correlação mais conhecidos é o coeficiente de correlação de Pearson, obtido pela divisão da covariância de duas variáveis pelo produto dos seus desvios padrão e sensível a uma relação linear entre duas variáveis. Entretanto, há outros coeficientes de correlação mais robustos que o coeficiente de correlação de Pearson. Isto é, mais sensíveis às relações não lineares.\n",
    "\n",
    "#### Tipos de correlação\n",
    "\n",
    "Linear:\n",
    "- Pearson\n",
    "\n",
    "Não-lineares:\n",
    "- Spearman\n",
    "- Kendall (tau)\n",
    "\n",
    "<br>\n",
    "<img src=\"img/correlacoes_comp.png\">\n",
    "<br>\n",
    "\n",
    "##### Correlação Linear de Pearson\n",
    "\n",
    "A correlação amostral trata da medida da direção e do grau com que as variáveis X {\\displaystyle X} {\\displaystyle X} e Y {\\displaystyle Y} {\\displaystyle Y} se associam linearmente em uma amostra. Karl Pearson desenvolveu o coeficiente amostral a partir de uma ideia semelhante, porém ligeiramente diferente da de Francis Galton. Então, o coeficiente amostral pode ser chamado de coeficiente produto–momento de Pearson, coeficiente de correlação de Pearson ou simplesmente coeficiente de correlação, que é a medida mais conhecida de dependência entre duas variáveis quantitativa.\n",
    "\n",
    "A correlação lineaar de Pearson é uma versão padronizada (dividida pelos desvios padrão) da covariância e sempre está entre 1 e -1, portanto pode ser comparada com variaveis que não tem necessáriamente a mesma escala.\n",
    "\n",
    "$$ \\rho = \\frac{{}\\sum_{i=1}^{n} (x_i - \\overline{x})(y_i - \\overline{y})}\n",
    "{\\sqrt{\\sum_{i=1}^{n} (x_i - \\overline{x})^2(y_i - \\overline{y})^2}}$$\n",
    "\n",
    "##### Correlação de Spearman\n",
    "\n",
    "A correlação de postos de Spearman é utilizada para a relação entre dados não–lineares. Quando os dados de uma amostra são ordenados de forma crescente, obtém–se uma condição de ordem para que cada elemento ordenado seja um posto.\n",
    "\n",
    "##### Correlação de Kendall\n",
    "\n",
    "A correlação de postos de Kendall, também conhecido como τ de Kendall, é uma medida a partir de uma amostra de dados ordenados como a correlação de postos de Spearman. A vantagem de τ de Kendall é a generalização para um coeficiente de correlação parcial. "
   ]
  },
  {
   "cell_type": "markdown",
   "metadata": {},
   "source": [
    "### Covariância\n",
    "\n",
    "<br>\n",
    "<img src=\"img/covariancia.png\">\n",
    "<br>\n",
    "\n",
    "*fonte: Wikipedia*\n",
    "\n",
    "Em teoria da probabilidade e na estatística, a covariância, ou variância conjunta, é uma medida do grau de interdependência (ou inter-relação) numérica entre duas variáveis aleatórias. Assim, variáveis independentes têm covariância zero.\n",
    "\n",
    "A covariância ou variância conjunta é um momento conjunto de primeira ordem das variáveis aleatórias X e Y, centrados nas respectivas médias. É a média do grau de interdependência ou inter-relação numérica linear entre elas. \n",
    "\n",
    "A covariância é por vezes chamada de medida de dependência linear entre as duas variáveis aleatórias. \n",
    "\n",
    "Dessa forma, a covariância é definida como uma variância entre duas variáveis distintas.\n",
    "\n",
    "$$ cov_{x,y} = \\sum_{i=1}^{n} (x_i - \\bar{x})(y_i - \\bar{y})\\quad \\text{(covariance)} $$\n",
    "\n",
    "$$\\sigma{_x}^{2} = \\sum_{i=1}^{n} (x_i - \\bar{x})^2\\quad \\text{(variance)}\t$$\n",
    "\n",
    "Vale a pena reforçar o que já foi mencionado acima, que a correlação é uma versão padronizada (dividida pelos desvios padrão) da covariância e sempre está entre 1 e -1, portanto pode ser comparada:\n",
    "#### com variaveis que não tem necessáriamente a mesma escala."
   ]
  },
  {
   "cell_type": "markdown",
   "metadata": {},
   "source": [
    "#### Exemplo com números gerados\n",
    "\n",
    "Vamos criar duas variáveis aleatórias para utilização nesta parte de cálculo das medidas de associação através no, e a partir do gráfico de dispersão (scatter plot) iremos trazer os códigos das funções de cálculo seguidas nos comandos da bilbioteca Scipy.Stats. "
   ]
  },
  {
   "cell_type": "code",
   "execution_count": 2,
   "metadata": {},
   "outputs": [],
   "source": [
    "x1 = [1.3, 2.1, 3.4, 3.7, 5.4, 6.3, 7.2, 8.1, 9.9]\n",
    "x2 = [8.7, 8.5, 7.6, 6.1, 5.1, 5.7, 3.3, 3.8, 1.7]\n"
   ]
  },
  {
   "cell_type": "code",
   "execution_count": 3,
   "metadata": {},
   "outputs": [
    {
     "data": {
      "text/plain": [
       "<matplotlib.collections.PathCollection at 0x253199263c8>"
      ]
     },
     "execution_count": 3,
     "metadata": {},
     "output_type": "execute_result"
    },
    {
     "data": {
      "image/png": "[encoded data removed]",
      "text/plain": [
       "<Figure size 432x288 with 1 Axes>"
      ]
     },
     "metadata": {
      "needs_background": "light"
     },
     "output_type": "display_data"
    }
   ],
   "source": [
    "plt.scatter(x=x1,\n",
    "            y=x2)"
   ]
  },
  {
   "cell_type": "markdown",
   "metadata": {},
   "source": [
    "Abaixo usaremos um metodo chamado 'zip'. Esse metodo pega duas listas e faz um entrelaco das mesmas. No nosso caso, zip combina os valores de x1 com seu correspondente em x2."
   ]
  },
  {
   "cell_type": "code",
   "execution_count": 7,
   "metadata": {},
   "outputs": [
    {
     "data": {
      "text/plain": [
       "<zip at 0x253199a55c8>"
      ]
     },
     "execution_count": 7,
     "metadata": {},
     "output_type": "execute_result"
    }
   ],
   "source": [
    "(zip(list(x1),list(x2)))"
   ]
  },
  {
   "cell_type": "code",
   "execution_count": 8,
   "metadata": {},
   "outputs": [
    {
     "data": {
      "text/plain": [
       "[(1.3, 8.7),\n",
       " (2.1, 8.5),\n",
       " (3.4, 7.6),\n",
       " (3.7, 6.1),\n",
       " (5.4, 5.1),\n",
       " (6.3, 5.7),\n",
       " (7.2, 3.3),\n",
       " (8.1, 3.8),\n",
       " (9.9, 1.7)]"
      ]
     },
     "execution_count": 8,
     "metadata": {},
     "output_type": "execute_result"
    }
   ],
   "source": [
    "list(zip(list(x1),list(x2)))"
   ]
  },
  {
   "cell_type": "code",
   "execution_count": 9,
   "metadata": {},
   "outputs": [],
   "source": [
    "xy = list(zip(list(x1),list(x2)))"
   ]
  },
  {
   "cell_type": "markdown",
   "metadata": {},
   "source": [
    "Vamos importar o pacote scipy e o metodo stats para calcularmos a correlacao das variaveis usando o teorema de Pearson.\n",
    "\n",
    "$$ \\rho = \\frac{{}\\sum_{i=1}^{n} (x_i - \\overline{x})(y_i - \\overline{y})}\n",
    "{\\sqrt{\\sum_{i=1}^{n} (x_i - \\overline{x})^2(y_i - \\overline{y})^2}}$$"
   ]
  },
  {
   "cell_type": "code",
   "execution_count": 16,
   "metadata": {},
   "outputs": [
    {
     "name": "stdout",
     "output_type": "stream",
     "text": [
      "-0.9693785258717729\n"
     ]
    }
   ],
   "source": [
    "correlacao = scipy.stats.pearsonr(x1, x2)\n",
    "print(correlacao[0])"
   ]
  },
  {
   "cell_type": "markdown",
   "metadata": {},
   "source": [
    "Vemos que a correlacao eh inversamente proporcional (negativa) e altamente relacionavel (quase 1). Isso quer dizer que, caso eu aumente a variavel x1 em 1 unidade, a variavel x2 ira diminuir bem proxima de 1 unidade, ou -0.97.\n",
    "\n",
    "Agora, vamos utilizar um codigo raiz do Python para conseguirmos a mesma correlacao de -0.97, seguindo a formula abaixo:\n",
    "\n",
    "<br>\n",
    "<img src=\"img/pearson-correlation-coefficient-formula.png\">\n",
    "<br>\n",
    "\n",
    "\n"
   ]
  },
  {
   "cell_type": "code",
   "execution_count": 38,
   "metadata": {},
   "outputs": [],
   "source": [
    "def corr_metodo_raiz(data):\n",
    "    n = len(data)\n",
    "    sumx = sum([i[0] for i in data])\n",
    "    sumy = sum([i[1] for i in data])\n",
    "    \n",
    "    sumxSq=sum([i[0]**2.0 for i in data]) #soma dos quadrados do x\n",
    "    sumySq=sum([i[1]**2.0 for i in data]) #soma dos quadrados do y\n",
    "    \n",
    "    pSum=sum([i[0]*i[1] for i in data]) #produto da soma (somatorio)\n",
    "    #cada uma das linhas multiplicadas pelas outras (xi*yi)\n",
    "    \n",
    "    numerador=pSum-(sumx*sumy/n)\n",
    "    denominador=((sumxSq-pow(sumx,2)/n)*(sumySq-pow(sumy,2)/n))**.5\n",
    "    #calculando o desvio padrao\n",
    "    \n",
    "    if denominador==0:\n",
    "        r=0\n",
    "    else:\n",
    "        r=numerador/denominador\n",
    "        \n",
    "    return r"
   ]
  },
  {
   "cell_type": "code",
   "execution_count": 39,
   "metadata": {},
   "outputs": [
    {
     "data": {
      "text/plain": [
       "-0.9693785258717726"
      ]
     },
     "execution_count": 39,
     "metadata": {},
     "output_type": "execute_result"
    }
   ],
   "source": [
    "corr_metodo_raiz(xy)"
   ]
  },
  {
   "cell_type": "markdown",
   "metadata": {},
   "source": [
    "Note a trabalhiera que deu achar o mesmo valor encontrado por apenas algumas linhas de codigo utilizando o pacote Scipy."
   ]
  },
  {
   "cell_type": "markdown",
   "metadata": {},
   "source": [
    "## DataSet IBGE\n",
    "\n",
    "Agora que jah encontramos a correlacao entre dados aleatorios, vamos trabalhar com dataset real, nesse caso o dataset do IBGE da decada de 90.\n",
    "\n",
    "Antes de mais nada, importaremos o pacote Pandas e atraves de alguns de seus metodos teremos algumas informacoes sobre os dados e tambem a visualizacao de suas colunas."
   ]
  },
  {
   "cell_type": "code",
   "execution_count": 43,
   "metadata": {},
   "outputs": [],
   "source": [
    "df_ibge = pd.read_csv('data.csv')"
   ]
  },
  {
   "cell_type": "code",
   "execution_count": 29,
   "metadata": {},
   "outputs": [
    {
     "name": "stdout",
     "output_type": "stream",
     "text": [
      "<class 'pandas.core.frame.DataFrame'>\n",
      "RangeIndex: 66470 entries, 0 to 66469\n",
      "Data columns (total 9 columns):\n",
      "Unnamed: 0      66470 non-null int64\n",
      "id              66470 non-null float64\n",
      "idade           66470 non-null int64\n",
      "sexo            66470 non-null object\n",
      "anos_estudo     66036 non-null float64\n",
      "cor/raca        66228 non-null object\n",
      "salario         47878 non-null float64\n",
      "estado_civil    66470 non-null float64\n",
      "regiao          66470 non-null object\n",
      "dtypes: float64(4), int64(2), object(3)\n",
      "memory usage: 4.6+ MB\n"
     ]
    }
   ],
   "source": [
    "df_ibge.info()"
   ]
  },
  {
   "cell_type": "code",
   "execution_count": 30,
   "metadata": {},
   "outputs": [
    {
     "data": {
      "text/html": [
       "<div>\n",
       "<style scoped>\n",
       "    .dataframe tbody tr th:only-of-type {\n",
       "        vertical-align: middle;\n",
       "    }\n",
       "\n",
       "    .dataframe tbody tr th {\n",
       "        vertical-align: top;\n",
       "    }\n",
       "\n",
       "    .dataframe thead th {\n",
       "        text-align: right;\n",
       "    }\n",
       "</style>\n",
       "<table border=\"1\" class=\"dataframe\">\n",
       "  <thead>\n",
       "    <tr style=\"text-align: right;\">\n",
       "      <th></th>\n",
       "      <th>Unnamed: 0</th>\n",
       "      <th>id</th>\n",
       "      <th>idade</th>\n",
       "      <th>sexo</th>\n",
       "      <th>anos_estudo</th>\n",
       "      <th>cor/raca</th>\n",
       "      <th>salario</th>\n",
       "      <th>estado_civil</th>\n",
       "      <th>regiao</th>\n",
       "    </tr>\n",
       "  </thead>\n",
       "  <tbody>\n",
       "    <tr>\n",
       "      <th>0</th>\n",
       "      <td>0</td>\n",
       "      <td>1.100190e+10</td>\n",
       "      <td>53</td>\n",
       "      <td>homem</td>\n",
       "      <td>5.0</td>\n",
       "      <td>Parda</td>\n",
       "      <td>63600.000000</td>\n",
       "      <td>1.0</td>\n",
       "      <td>norte</td>\n",
       "    </tr>\n",
       "    <tr>\n",
       "      <th>1</th>\n",
       "      <td>1</td>\n",
       "      <td>1.100190e+10</td>\n",
       "      <td>49</td>\n",
       "      <td>mulher</td>\n",
       "      <td>8.0</td>\n",
       "      <td>Amarela</td>\n",
       "      <td>NaN</td>\n",
       "      <td>1.0</td>\n",
       "      <td>norte</td>\n",
       "    </tr>\n",
       "    <tr>\n",
       "      <th>2</th>\n",
       "      <td>2</td>\n",
       "      <td>1.100190e+10</td>\n",
       "      <td>22</td>\n",
       "      <td>mulher</td>\n",
       "      <td>11.0</td>\n",
       "      <td>Indigena</td>\n",
       "      <td>4352.400391</td>\n",
       "      <td>0.0</td>\n",
       "      <td>nordeste</td>\n",
       "    </tr>\n",
       "    <tr>\n",
       "      <th>3</th>\n",
       "      <td>3</td>\n",
       "      <td>1.100190e+10</td>\n",
       "      <td>55</td>\n",
       "      <td>homem</td>\n",
       "      <td>15.0</td>\n",
       "      <td>Amarela</td>\n",
       "      <td>96600.000000</td>\n",
       "      <td>1.0</td>\n",
       "      <td>norte</td>\n",
       "    </tr>\n",
       "    <tr>\n",
       "      <th>4</th>\n",
       "      <td>4</td>\n",
       "      <td>1.100190e+10</td>\n",
       "      <td>56</td>\n",
       "      <td>mulher</td>\n",
       "      <td>15.0</td>\n",
       "      <td>Amarela</td>\n",
       "      <td>157800.000000</td>\n",
       "      <td>1.0</td>\n",
       "      <td>norte</td>\n",
       "    </tr>\n",
       "  </tbody>\n",
       "</table>\n",
       "</div>"
      ],
      "text/plain": [
       "   Unnamed: 0            id  idade    sexo  anos_estudo  cor/raca  \\\n",
       "0           0  1.100190e+10     53   homem          5.0     Parda   \n",
       "1           1  1.100190e+10     49  mulher          8.0   Amarela   \n",
       "2           2  1.100190e+10     22  mulher         11.0  Indigena   \n",
       "3           3  1.100190e+10     55   homem         15.0   Amarela   \n",
       "4           4  1.100190e+10     56  mulher         15.0   Amarela   \n",
       "\n",
       "         salario  estado_civil    regiao  \n",
       "0   63600.000000           1.0     norte  \n",
       "1            NaN           1.0     norte  \n",
       "2    4352.400391           0.0  nordeste  \n",
       "3   96600.000000           1.0     norte  \n",
       "4  157800.000000           1.0     norte  "
      ]
     },
     "execution_count": 30,
     "metadata": {},
     "output_type": "execute_result"
    }
   ],
   "source": [
    "df_ibge.head()"
   ]
  },
  {
   "cell_type": "markdown",
   "metadata": {},
   "source": [
    "Inicialmente, queremos criar um codigo usando somente o Python que unira as colunas de idade e anos_estudo (da mesma forma que fizemos com o 'zip'). Nesse mesmo codigo, incluiremos uma passagem que eliminara os valores nulos das 2 colunas atraves do 'i>0'"
   ]
  },
  {
   "cell_type": "code",
   "execution_count": 33,
   "metadata": {},
   "outputs": [
    {
     "data": {
      "text/plain": [
       "66036"
      ]
     },
     "execution_count": 33,
     "metadata": {},
     "output_type": "execute_result"
    }
   ],
   "source": [
    "\n",
    "idade_estudo = []\n",
    "\n",
    "with open(r'data.csv', 'r') as data_csv:\n",
    "    data = csv.reader(data_csv)\n",
    "    for i, line in enumerate(data):\n",
    "        observação = [] # cria uma lista em branco a cada iteração\n",
    "        if i>0: #deixando os nulos de fora\n",
    "            try: # para evitar os campos nulos\n",
    "                observação.append(float(line[2]))#coluna 2 eh a idade\n",
    "                observação.append(float(line[4]))#coluna #4 eh anos_estudo\n",
    "                idade_estudo.append(observação)\n",
    "            except:\n",
    "                pass\n",
    "\n",
    "len(idade_estudo)"
   ]
  },
  {
   "cell_type": "code",
   "execution_count": 35,
   "metadata": {},
   "outputs": [
    {
     "data": {
      "text/plain": [
       "434"
      ]
     },
     "execution_count": 35,
     "metadata": {},
     "output_type": "execute_result"
    }
   ],
   "source": [
    "66470 - 66036"
   ]
  },
  {
   "cell_type": "markdown",
   "metadata": {},
   "source": [
    "Repare que ao definir 'if i>0' deixamos os nulos de fora e com isso o nosso numero de linhas (samples) diminuiu em 434 valores."
   ]
  },
  {
   "cell_type": "code",
   "execution_count": 36,
   "metadata": {},
   "outputs": [
    {
     "data": {
      "text/plain": [
       "[[53.0, 5.0],\n",
       " [49.0, 8.0],\n",
       " [22.0, 11.0],\n",
       " [55.0, 15.0],\n",
       " [56.0, 15.0],\n",
       " [30.0, 15.0],\n",
       " [52.0, 5.0],\n",
       " [29.0, 5.0],\n",
       " [29.0, 11.0],\n",
       " [46.0, 15.0]]"
      ]
     },
     "execution_count": 36,
     "metadata": {},
     "output_type": "execute_result"
    }
   ],
   "source": [
    "idade_estudo[:10]"
   ]
  },
  {
   "cell_type": "code",
   "execution_count": 40,
   "metadata": {},
   "outputs": [
    {
     "data": {
      "text/plain": [
       "-0.22316633803425154"
      ]
     },
     "execution_count": 40,
     "metadata": {},
     "output_type": "execute_result"
    }
   ],
   "source": [
    "corr_metodo_raiz(idade_estudo)"
   ]
  },
  {
   "cell_type": "markdown",
   "metadata": {},
   "source": [
    "Agora que 'zipamos' as variaveis idade e anos_estudo de uma maneira artesanal, podemos simplesmente adicionar essa nova variavel (idade_estudo) ao codigo raiz que criamos para calcular a correlacao de variaveis (corr_metodo_raiz). Dessa forma, chegaremos a conclusao que a correlacao eh inversamente proporcional (negativa) porem sua relacao eh baixa (-0.22), oque significa que para cada unidade adicional na idade, os anos de estudo diminuem numa relacao muito mais baixa de apenas 0.22.\n",
    "\n",
    "Eh importanto notar que antigamente as pessoas estudavam menos doque as geracoes mais recentes. Portanto, eh compreensivel que a correlacao seja negativa (quanto mais velha a pessoa, menos anos de estudo). Se estivessemos trabalhando com dados mais recentes, estariamos contabilizando a explosao demografica ocorrida ao longo das decadas de 1990 e 2000, e talvez o coeficiente de correlacao viesse a ser mais proximo de -1, jah que nessas duas decadas teriamos muito mais jovens e esses estariam dentro da tendencia do aumento do numero de anos de estudo em consequencia das exigencias do mercado de trabalho."
   ]
  }
 ],
 "metadata": {
  "kernelspec": {
   "display_name": "Python 3",
   "language": "python",
   "name": "python3"
  },
  "language_info": {
   "codemirror_mode": {
    "name": "ipython",
    "version": 3
   },
   "file_extension": ".py",
   "mimetype": "text/x-python",
   "name": "python",
   "nbconvert_exporter": "python",
   "pygments_lexer": "ipython3",
   "version": "3.7.1"
  }
 },
 "nbformat": 4,
 "nbformat_minor": 2
}
